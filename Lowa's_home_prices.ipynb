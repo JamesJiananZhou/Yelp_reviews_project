{
  "cells": [
    {
      "cell_type": "markdown",
      "metadata": {
        "deletable": false,
        "editable": false,
        "nbgrader": {
          "cell_type": "markdown",
          "checksum": "8ffcbfcc12357213a3be26710877c891",
          "grade": false,
          "grade_id": "cell-6c3b25a3a9ca2f0a",
          "locked": true,
          "schema_version": 3,
          "solution": false,
          "task": false
        },
        "id": "gRKj45B5isE1"
      },
      "source": [
        "\n",
        "# Project: Predicting Home Prices in Iowa 🏠\n",
        "\n",
        "The goal of this project is to build a regression model that can predict the sale price of a house in Aimes, Iowa.\n",
        "\n",
        "# Directions \n",
        "\n",
        "\n",
        "- **Task 1:** Import training data.\n",
        "- **Task 2:** Create scatter plot.\n",
        "- **Task 3:** Split data into feature matrix and target vector.\n",
        "- **Task 4:** Split data into training and validation sets.\n",
        "- **Task 5:** Establish baseline mean absolute error.\n",
        "- **Task 6:** Build and train linear regression model.\n",
        "- **Task 7:** Build and train ridge regression model.\n",
        "- **Task 8:** Calculate mean absolute error for training and validation sets.\n",
        "- **Task 9:** Calculate $R^2$ for validation set.\n",
        "- **Task 10:** Make predictions based on test set.\n",
        "- **Task 11:** Plot model coefficients.\n",
        "\n",
        "**I will limit my code to the following libraries:**\n",
        "\n",
        "- `category_encoders`\n",
        "- `numpy`\n",
        "- `matplotlib`\n",
        "- `pandas`\n",
        "- `sklearn` \n",
        "\n",
        "# Tasks\n",
        "\n",
        "## I. Wrangle Data\n",
        "\n",
        "**Task 1:** Since real estate prices fluctuate over time, it's important to index the houses in this dataset using the year in which they were sold. First, load the dataset into a DataFrame named `df` and find the column that states the year sold. Next, modify the code below so that `Yr_Sold` column is parsed as a datetime object and set as the index."
      ]
    },
    {
      "cell_type": "code",
      "execution_count": null,
      "metadata": {
        "deletable": false,
        "editable": false,
        "nbgrader": {
          "cell_type": "code",
          "checksum": "53464cc768e269c070c42bd152223bbc",
          "grade": false,
          "grade_id": "cell-99b74e54a46dec38",
          "locked": true,
          "schema_version": 3,
          "solution": false,
          "task": false
        },
        "id": "goBOtgcBisE1"
      },
      "outputs": [],
      "source": [
        "%%capture\n",
        "import sys\n",
        "if 'google.colab' in sys.modules:\n",
        "    !pip install category_encoders==2.*"
      ]
    },
    {
      "cell_type": "code",
      "source": [
        "from category_encoders import OneHotEncoder\n",
        "import numpy as np\n",
        "import matplotlib.pyplot as plt\n",
        "import pandas as pd\n",
        "from sklearn.linear_model import LogisticRegression\n",
        "from sklearn.metrics import mean_absolute_error\n",
        "from sklearn.impute import SimpleImputer\n",
        "from sklearn.pipeline import make_pipeline\n",
        "from sklearn.preprocessing import StandardScaler"
      ],
      "metadata": {
        "id": "OAE8Z3ykk-WS",
        "colab": {
          "base_uri": "https://localhost:8080/"
        },
        "outputId": "95422c75-d34a-4da5-f26e-52df976978fa"
      },
      "execution_count": null,
      "outputs": [
        {
          "output_type": "stream",
          "name": "stderr",
          "text": [
            "/usr/local/lib/python3.7/dist-packages/statsmodels/tools/_testing.py:19: FutureWarning: pandas.util.testing is deprecated. Use the functions in the public API at pandas.testing instead.\n",
            "  import pandas.util.testing as tm\n"
          ]
        }
      ]
    },
    {
      "cell_type": "code",
      "execution_count": null,
      "metadata": {
        "deletable": false,
        "id": "7ptoRG1lu7H4",
        "nbgrader": {
          "cell_type": "code",
          "checksum": "971bae389cac7fcc8b6b743b55faaa50",
          "grade": false,
          "grade_id": "cell-f40876cb08c183d1",
          "locked": false,
          "schema_version": 3,
          "solution": true,
          "task": false
        }
      },
      "outputs": [],
      "source": [
        "'''T1: Import data into DataFrame `df`.'''\n",
        "import pandas as pd\n",
        "\n",
        "url_train = 'https://drive.google.com/uc?export=download&id=1tmYLQ1RwIgjI_d66PWnlXU-5D_VxtiQc'\n",
        "df = pd.read_csv(url_train)\n",
        "def wrangle():\n",
        "    df = pd.read_csv(url_train,parse_dates=['Yr_Sold'],index_col='Yr_Sold')\n",
        "    return df"
      ]
    },
    {
      "cell_type": "code",
      "source": [
        "df=wrangle()\n",
        "df.head()"
      ],
      "metadata": {
        "colab": {
          "base_uri": "https://localhost:8080/",
          "height": 417
        },
        "id": "OnCeIzbnrCok",
        "outputId": "32809cb8-b8cf-4684-9219-1df28f03ca4a"
      },
      "execution_count": null,
      "outputs": [
        {
          "output_type": "execute_result",
          "data": {
            "text/plain": [
              "            1st_Flr_SF  Bedroom_AbvGr Bldg_Type  Bsmt_Full_Bath  \\\n",
              "Yr_Sold                                                           \n",
              "2009-01-01         882              2      1Fam             0.0   \n",
              "2009-01-01        1434              4      1Fam             1.0   \n",
              "2009-01-01        2000              4      1Fam             1.0   \n",
              "2009-01-01         945              3      1Fam             0.0   \n",
              "2009-01-01        1008              4      1Fam             0.0   \n",
              "\n",
              "            Bsmt_Half_Bath Central_Air Condition_1 Condition_2 Electrical  \\\n",
              "Yr_Sold                                                                     \n",
              "2009-01-01             0.0           Y        Norm        Norm      SBrkr   \n",
              "2009-01-01             0.0           Y        Norm        Norm      SBrkr   \n",
              "2009-01-01             0.0           Y        Norm        Norm      SBrkr   \n",
              "2009-01-01             0.0           Y        Norm        Norm      SBrkr   \n",
              "2009-01-01             0.0           Y        Norm        Norm      SBrkr   \n",
              "\n",
              "           Exter_Cond  ... Roof_Matl Roof_Style SalePrice Sale_Condition  \\\n",
              "Yr_Sold                ...                                                 \n",
              "2009-01-01         TA  ...   CompShg      Gable    124500         Normal   \n",
              "2009-01-01         TA  ...   CompShg        Hip    157000         Normal   \n",
              "2009-01-01         TA  ...   CompShg      Gable    345000         Normal   \n",
              "2009-01-01         TA  ...   CompShg      Gable    189500         Normal   \n",
              "2009-01-01         TA  ...   CompShg      Gable    270000         Normal   \n",
              "\n",
              "            Sale_Type Street  TotRms_AbvGrd  Utilities Year_Built  \\\n",
              "Yr_Sold                                                             \n",
              "2009-01-01        WD    Pave              5     AllPub       1956   \n",
              "2009-01-01        WD    Pave              7     AllPub       1974   \n",
              "2009-01-01        WD    Pave              9     AllPub       1972   \n",
              "2009-01-01        WD    Pave              7     AllPub       1997   \n",
              "2009-01-01        WD    Pave              9     AllPub       2003   \n",
              "\n",
              "           Year_Remod/Add  \n",
              "Yr_Sold                    \n",
              "2009-01-01           1956  \n",
              "2009-01-01           1974  \n",
              "2009-01-01           1995  \n",
              "2009-01-01           1997  \n",
              "2009-01-01           2003  \n",
              "\n",
              "[5 rows x 46 columns]"
            ],
            "text/html": [
              "\n",
              "  <div id=\"df-8af05141-11ab-45c6-bab4-7bb303c324d4\">\n",
              "    <div class=\"colab-df-container\">\n",
              "      <div>\n",
              "<style scoped>\n",
              "    .dataframe tbody tr th:only-of-type {\n",
              "        vertical-align: middle;\n",
              "    }\n",
              "\n",
              "    .dataframe tbody tr th {\n",
              "        vertical-align: top;\n",
              "    }\n",
              "\n",
              "    .dataframe thead th {\n",
              "        text-align: right;\n",
              "    }\n",
              "</style>\n",
              "<table border=\"1\" class=\"dataframe\">\n",
              "  <thead>\n",
              "    <tr style=\"text-align: right;\">\n",
              "      <th></th>\n",
              "      <th>1st_Flr_SF</th>\n",
              "      <th>Bedroom_AbvGr</th>\n",
              "      <th>Bldg_Type</th>\n",
              "      <th>Bsmt_Full_Bath</th>\n",
              "      <th>Bsmt_Half_Bath</th>\n",
              "      <th>Central_Air</th>\n",
              "      <th>Condition_1</th>\n",
              "      <th>Condition_2</th>\n",
              "      <th>Electrical</th>\n",
              "      <th>Exter_Cond</th>\n",
              "      <th>...</th>\n",
              "      <th>Roof_Matl</th>\n",
              "      <th>Roof_Style</th>\n",
              "      <th>SalePrice</th>\n",
              "      <th>Sale_Condition</th>\n",
              "      <th>Sale_Type</th>\n",
              "      <th>Street</th>\n",
              "      <th>TotRms_AbvGrd</th>\n",
              "      <th>Utilities</th>\n",
              "      <th>Year_Built</th>\n",
              "      <th>Year_Remod/Add</th>\n",
              "    </tr>\n",
              "    <tr>\n",
              "      <th>Yr_Sold</th>\n",
              "      <th></th>\n",
              "      <th></th>\n",
              "      <th></th>\n",
              "      <th></th>\n",
              "      <th></th>\n",
              "      <th></th>\n",
              "      <th></th>\n",
              "      <th></th>\n",
              "      <th></th>\n",
              "      <th></th>\n",
              "      <th></th>\n",
              "      <th></th>\n",
              "      <th></th>\n",
              "      <th></th>\n",
              "      <th></th>\n",
              "      <th></th>\n",
              "      <th></th>\n",
              "      <th></th>\n",
              "      <th></th>\n",
              "      <th></th>\n",
              "      <th></th>\n",
              "    </tr>\n",
              "  </thead>\n",
              "  <tbody>\n",
              "    <tr>\n",
              "      <th>2009-01-01</th>\n",
              "      <td>882</td>\n",
              "      <td>2</td>\n",
              "      <td>1Fam</td>\n",
              "      <td>0.0</td>\n",
              "      <td>0.0</td>\n",
              "      <td>Y</td>\n",
              "      <td>Norm</td>\n",
              "      <td>Norm</td>\n",
              "      <td>SBrkr</td>\n",
              "      <td>TA</td>\n",
              "      <td>...</td>\n",
              "      <td>CompShg</td>\n",
              "      <td>Gable</td>\n",
              "      <td>124500</td>\n",
              "      <td>Normal</td>\n",
              "      <td>WD</td>\n",
              "      <td>Pave</td>\n",
              "      <td>5</td>\n",
              "      <td>AllPub</td>\n",
              "      <td>1956</td>\n",
              "      <td>1956</td>\n",
              "    </tr>\n",
              "    <tr>\n",
              "      <th>2009-01-01</th>\n",
              "      <td>1434</td>\n",
              "      <td>4</td>\n",
              "      <td>1Fam</td>\n",
              "      <td>1.0</td>\n",
              "      <td>0.0</td>\n",
              "      <td>Y</td>\n",
              "      <td>Norm</td>\n",
              "      <td>Norm</td>\n",
              "      <td>SBrkr</td>\n",
              "      <td>TA</td>\n",
              "      <td>...</td>\n",
              "      <td>CompShg</td>\n",
              "      <td>Hip</td>\n",
              "      <td>157000</td>\n",
              "      <td>Normal</td>\n",
              "      <td>WD</td>\n",
              "      <td>Pave</td>\n",
              "      <td>7</td>\n",
              "      <td>AllPub</td>\n",
              "      <td>1974</td>\n",
              "      <td>1974</td>\n",
              "    </tr>\n",
              "    <tr>\n",
              "      <th>2009-01-01</th>\n",
              "      <td>2000</td>\n",
              "      <td>4</td>\n",
              "      <td>1Fam</td>\n",
              "      <td>1.0</td>\n",
              "      <td>0.0</td>\n",
              "      <td>Y</td>\n",
              "      <td>Norm</td>\n",
              "      <td>Norm</td>\n",
              "      <td>SBrkr</td>\n",
              "      <td>TA</td>\n",
              "      <td>...</td>\n",
              "      <td>CompShg</td>\n",
              "      <td>Gable</td>\n",
              "      <td>345000</td>\n",
              "      <td>Normal</td>\n",
              "      <td>WD</td>\n",
              "      <td>Pave</td>\n",
              "      <td>9</td>\n",
              "      <td>AllPub</td>\n",
              "      <td>1972</td>\n",
              "      <td>1995</td>\n",
              "    </tr>\n",
              "    <tr>\n",
              "      <th>2009-01-01</th>\n",
              "      <td>945</td>\n",
              "      <td>3</td>\n",
              "      <td>1Fam</td>\n",
              "      <td>0.0</td>\n",
              "      <td>0.0</td>\n",
              "      <td>Y</td>\n",
              "      <td>Norm</td>\n",
              "      <td>Norm</td>\n",
              "      <td>SBrkr</td>\n",
              "      <td>TA</td>\n",
              "      <td>...</td>\n",
              "      <td>CompShg</td>\n",
              "      <td>Gable</td>\n",
              "      <td>189500</td>\n",
              "      <td>Normal</td>\n",
              "      <td>WD</td>\n",
              "      <td>Pave</td>\n",
              "      <td>7</td>\n",
              "      <td>AllPub</td>\n",
              "      <td>1997</td>\n",
              "      <td>1997</td>\n",
              "    </tr>\n",
              "    <tr>\n",
              "      <th>2009-01-01</th>\n",
              "      <td>1008</td>\n",
              "      <td>4</td>\n",
              "      <td>1Fam</td>\n",
              "      <td>0.0</td>\n",
              "      <td>0.0</td>\n",
              "      <td>Y</td>\n",
              "      <td>Norm</td>\n",
              "      <td>Norm</td>\n",
              "      <td>SBrkr</td>\n",
              "      <td>TA</td>\n",
              "      <td>...</td>\n",
              "      <td>CompShg</td>\n",
              "      <td>Gable</td>\n",
              "      <td>270000</td>\n",
              "      <td>Normal</td>\n",
              "      <td>WD</td>\n",
              "      <td>Pave</td>\n",
              "      <td>9</td>\n",
              "      <td>AllPub</td>\n",
              "      <td>2003</td>\n",
              "      <td>2003</td>\n",
              "    </tr>\n",
              "  </tbody>\n",
              "</table>\n",
              "<p>5 rows × 46 columns</p>\n",
              "</div>\n",
              "      <button class=\"colab-df-convert\" onclick=\"convertToInteractive('df-8af05141-11ab-45c6-bab4-7bb303c324d4')\"\n",
              "              title=\"Convert this dataframe to an interactive table.\"\n",
              "              style=\"display:none;\">\n",
              "        \n",
              "  <svg xmlns=\"http://www.w3.org/2000/svg\" height=\"24px\"viewBox=\"0 0 24 24\"\n",
              "       width=\"24px\">\n",
              "    <path d=\"M0 0h24v24H0V0z\" fill=\"none\"/>\n",
              "    <path d=\"M18.56 5.44l.94 2.06.94-2.06 2.06-.94-2.06-.94-.94-2.06-.94 2.06-2.06.94zm-11 1L8.5 8.5l.94-2.06 2.06-.94-2.06-.94L8.5 2.5l-.94 2.06-2.06.94zm10 10l.94 2.06.94-2.06 2.06-.94-2.06-.94-.94-2.06-.94 2.06-2.06.94z\"/><path d=\"M17.41 7.96l-1.37-1.37c-.4-.4-.92-.59-1.43-.59-.52 0-1.04.2-1.43.59L10.3 9.45l-7.72 7.72c-.78.78-.78 2.05 0 2.83L4 21.41c.39.39.9.59 1.41.59.51 0 1.02-.2 1.41-.59l7.78-7.78 2.81-2.81c.8-.78.8-2.07 0-2.86zM5.41 20L4 18.59l7.72-7.72 1.47 1.35L5.41 20z\"/>\n",
              "  </svg>\n",
              "      </button>\n",
              "      \n",
              "  <style>\n",
              "    .colab-df-container {\n",
              "      display:flex;\n",
              "      flex-wrap:wrap;\n",
              "      gap: 12px;\n",
              "    }\n",
              "\n",
              "    .colab-df-convert {\n",
              "      background-color: #E8F0FE;\n",
              "      border: none;\n",
              "      border-radius: 50%;\n",
              "      cursor: pointer;\n",
              "      display: none;\n",
              "      fill: #1967D2;\n",
              "      height: 32px;\n",
              "      padding: 0 0 0 0;\n",
              "      width: 32px;\n",
              "    }\n",
              "\n",
              "    .colab-df-convert:hover {\n",
              "      background-color: #E2EBFA;\n",
              "      box-shadow: 0px 1px 2px rgba(60, 64, 67, 0.3), 0px 1px 3px 1px rgba(60, 64, 67, 0.15);\n",
              "      fill: #174EA6;\n",
              "    }\n",
              "\n",
              "    [theme=dark] .colab-df-convert {\n",
              "      background-color: #3B4455;\n",
              "      fill: #D2E3FC;\n",
              "    }\n",
              "\n",
              "    [theme=dark] .colab-df-convert:hover {\n",
              "      background-color: #434B5C;\n",
              "      box-shadow: 0px 1px 3px 1px rgba(0, 0, 0, 0.15);\n",
              "      filter: drop-shadow(0px 1px 2px rgba(0, 0, 0, 0.3));\n",
              "      fill: #FFFFFF;\n",
              "    }\n",
              "  </style>\n",
              "\n",
              "      <script>\n",
              "        const buttonEl =\n",
              "          document.querySelector('#df-8af05141-11ab-45c6-bab4-7bb303c324d4 button.colab-df-convert');\n",
              "        buttonEl.style.display =\n",
              "          google.colab.kernel.accessAllowed ? 'block' : 'none';\n",
              "\n",
              "        async function convertToInteractive(key) {\n",
              "          const element = document.querySelector('#df-8af05141-11ab-45c6-bab4-7bb303c324d4');\n",
              "          const dataTable =\n",
              "            await google.colab.kernel.invokeFunction('convertToInteractive',\n",
              "                                                     [key], {});\n",
              "          if (!dataTable) return;\n",
              "\n",
              "          const docLinkHtml = 'Like what you see? Visit the ' +\n",
              "            '<a target=\"_blank\" href=https://colab.research.google.com/notebooks/data_table.ipynb>data table notebook</a>'\n",
              "            + ' to learn more about interactive tables.';\n",
              "          element.innerHTML = '';\n",
              "          dataTable['output_type'] = 'display_data';\n",
              "          await google.colab.output.renderOutput(dataTable, element);\n",
              "          const docLink = document.createElement('div');\n",
              "          docLink.innerHTML = docLinkHtml;\n",
              "          element.appendChild(docLink);\n",
              "        }\n",
              "      </script>\n",
              "    </div>\n",
              "  </div>\n",
              "  "
            ]
          },
          "metadata": {},
          "execution_count": 5
        }
      ]
    },
    {
      "cell_type": "markdown",
      "metadata": {
        "deletable": false,
        "editable": false,
        "nbgrader": {
          "cell_type": "markdown",
          "checksum": "0238173d96fa9190e6a2ee242499126a",
          "grade": false,
          "grade_id": "cell-81a7c3a23718bfd1",
          "locked": true,
          "schema_version": 3,
          "solution": false,
          "task": false
        },
        "id": "XTTqZ_b5isE2"
      },
      "source": [
        "**Task 2:** Create a scatter plot that shows `'SalePrice'` as a function of `'Gr_Liv_Area'`. "
      ]
    },
    {
      "cell_type": "code",
      "execution_count": null,
      "metadata": {
        "deletable": false,
        "nbgrader": {
          "cell_type": "code",
          "checksum": "894e735ac4bb5911d536ee8852c2111f",
          "grade": false,
          "grade_id": "cell-8ee63eed57f965ea",
          "locked": false,
          "schema_version": 3,
          "solution": true,
          "task": false
        },
        "colab": {
          "base_uri": "https://localhost:8080/",
          "height": 297
        },
        "id": "qkixZYwOisE2",
        "outputId": "ceae966a-c9a7-4939-f0b0-7315aeec8d82"
      },
      "outputs": [
        {
          "output_type": "execute_result",
          "data": {
            "text/plain": [
              "Text(0, 0.5, 'Gr_Liv_Area')"
            ]
          },
          "metadata": {},
          "execution_count": 7
        },
        {
          "output_type": "display_data",
          "data": {
            "text/plain": [
              "<Figure size 432x288 with 1 Axes>"
            ],
            "image/png": "[encoded data removed]"
          },
          "metadata": {
            "needs_background": "light"
          }
        }
      ],
      "source": [
        "import matplotlib.pyplot as plt\n",
        "\n",
        "plt.scatter(df['SalePrice'],df['Gr_Liv_Area'])\n",
        "plt.plot(df['SalePrice'],df['Gr_Liv_Area'])\n",
        "plt.xlabel('Saleprice')\n",
        "plt.ylabel('Gr_Liv_Area')\n"
      ]
    },
    {
      "cell_type": "markdown",
      "metadata": {
        "deletable": false,
        "editable": false,
        "nbgrader": {
          "cell_type": "markdown",
          "checksum": "8c8dd11e8a0388b018d59e6aca553ab6",
          "grade": false,
          "grade_id": "cell-17226b293bcb9e54",
          "locked": true,
          "schema_version": 3,
          "solution": false,
          "task": false
        },
        "id": "ZJBooZkDisE2"
      },
      "source": [
        "## II. Split Data\n",
        "\n",
        "**Task 3:** Since I am building a model to predict the price at which a house will be sold, my target is the `'SalePrice'` column. Split the DataFrame `df` into the target vector `y` and the feature matrix `X`. "
      ]
    },
    {
      "cell_type": "code",
      "execution_count": null,
      "metadata": {
        "deletable": false,
        "nbgrader": {
          "cell_type": "code",
          "checksum": "9a2ebca053c8701207fd5db749e36d0a",
          "grade": false,
          "grade_id": "cell-4207f17d2e629cbd",
          "locked": false,
          "schema_version": 3,
          "solution": true,
          "task": false
        },
        "id": "Lf2fPX1lisE2"
      },
      "outputs": [],
      "source": [
        "'''T3: Split `df` into `X` and `y`.'''\n",
        "\n",
        "target = 'SalePrice'\n",
        "\n",
        "X= df.drop(columns=target)\n",
        "y=df[target]"
      ]
    },
    {
      "cell_type": "markdown",
      "metadata": {
        "deletable": false,
        "editable": false,
        "nbgrader": {
          "cell_type": "markdown",
          "checksum": "94fa1718a8d544efd9740e055eed9dee",
          "grade": false,
          "grade_id": "cell-708c2f8aa9bebfa1",
          "locked": true,
          "schema_version": 3,
          "solution": false,
          "task": false
        },
        "id": "zn535sk3isE3"
      },
      "source": [
        "**Task 4:** Split `X` and `y` into training and validation sets. Since housing prices fluctuate over time, I will use the time-based cutoff method. \n",
        "\n",
        "- Training: Homes sold before 2009\n",
        "- Validation: Homes sold during 2009"
      ]
    },
    {
      "cell_type": "code",
      "execution_count": null,
      "metadata": {
        "deletable": false,
        "nbgrader": {
          "cell_type": "code",
          "checksum": "11d8d6d6ef1622e19b0e405523389c0e",
          "grade": false,
          "grade_id": "cell-2efa29975d55a10c",
          "locked": false,
          "schema_version": 3,
          "solution": true,
          "task": false
        },
        "id": "qqrIAjFnisE3"
      },
      "outputs": [],
      "source": [
        "'''T4: Split `X` and `y` into training, validation, and testing sets.'''\n",
        "\n",
        "cutoff='2009'\n",
        "mask=X.index<cutoff\n",
        "X_train, y_train=X.loc[mask],y.loc[mask]\n",
        "X_val, y_val=X.loc[~mask],y.loc[~mask]"
      ]
    },
    {
      "cell_type": "markdown",
      "metadata": {
        "deletable": false,
        "editable": false,
        "nbgrader": {
          "cell_type": "markdown",
          "checksum": "d6a8d57a5e0f00b03dcc7127d385fef3",
          "grade": false,
          "grade_id": "cell-63da195f83201124",
          "locked": true,
          "schema_version": 3,
          "solution": false,
          "task": false
        },
        "id": "F-eCeWhTisE3"
      },
      "source": [
        "## III. Set Baseline\n",
        "\n",
        "**Task 5:** Before I can create a model to predict sale price, I need to establish a baseline. First, calculate the mean housing price for my training set. Next, calculate the *mean absolute error* for a model that always predicts that mean."
      ]
    },
    {
      "cell_type": "code",
      "execution_count": null,
      "metadata": {
        "deletable": false,
        "nbgrader": {
          "cell_type": "code",
          "checksum": "6bd6e555eb003bc08b8ff2ef2f8bc087",
          "grade": false,
          "grade_id": "cell-62dc6e7707644a97",
          "locked": false,
          "schema_version": 3,
          "solution": true,
          "task": false
        },
        "colab": {
          "base_uri": "https://localhost:8080/"
        },
        "id": "LzJPYW6iisE3",
        "outputId": "d8ea3230-8e38-4bbc-8b8b-ec9d30a78e87"
      },
      "outputs": [
        {
          "output_type": "stream",
          "name": "stdout",
          "text": [
            "Baseline MAE: 58502.9394639757\n"
          ]
        }
      ],
      "source": [
        "'''T5: Calculate baseline mean absolute error.'''\n",
        "from sklearn.metrics import mean_absolute_error\n",
        "\n",
        "mean_y=y_train.mean()\n",
        "y_pred=len(y_train)*[mean_y]\n",
        "baseline_mae=mean_absolute_error(y_train,y_pred)\n",
        "print('Baseline MAE:', baseline_mae)"
      ]
    },
    {
      "cell_type": "markdown",
      "metadata": {
        "deletable": false,
        "editable": false,
        "nbgrader": {
          "cell_type": "markdown",
          "checksum": "07eabd28839601f0c7a2f98893681016",
          "grade": false,
          "grade_id": "cell-63b7627f91c1e767",
          "locked": true,
          "schema_version": 3,
          "solution": false,
          "task": false
        },
        "id": "fDJwsaGNisE3"
      },
      "source": [
        "## IV. Build Models\n",
        "\n",
        "**Task 6:** Build and train a linear regression model named `model_lr` that predicts home sale price. My model will have the following components:\n",
        "\n",
        "- A `OneHotEncoder` for categorical features.\n",
        "- A `StandardScaler` so that I can compare your model coefficients after training.\n",
        "- A `pipeline` that combines transformers and predictor.\n"
      ]
    },
    {
      "cell_type": "code",
      "source": [
        "df=df.drop(columns='SalePrice')"
      ],
      "metadata": {
        "id": "z1g_WG-PXuQY"
      },
      "execution_count": null,
      "outputs": []
    },
    {
      "cell_type": "code",
      "execution_count": null,
      "metadata": {
        "deletable": false,
        "nbgrader": {
          "cell_type": "code",
          "checksum": "3236c609a2729c303682be55af187cb2",
          "grade": false,
          "grade_id": "cell-b80a918d2acd5e24",
          "locked": false,
          "schema_version": 3,
          "solution": true,
          "task": false
        },
        "id": "K8NqzKa8isE3"
      },
      "outputs": [],
      "source": [
        "'''T6: Build and train LinearRegression model.'''\n",
        "from sklearn.pipeline import make_pipeline\n",
        "from sklearn.linear_model import LinearRegression\n",
        "from category_encoders import OneHotEncoder\n",
        "from sklearn.preprocessing import StandardScaler\n",
        "\n",
        "model_lr = make_pipeline(\n",
        "    OneHotEncoder(use_cat_names=True),\n",
        "    StandardScaler(),\n",
        "    LinearRegression()\n",
        ")\n",
        "model_lr.fit(X_train, y_train);"
      ]
    },
    {
      "cell_type": "markdown",
      "metadata": {
        "deletable": false,
        "editable": false,
        "nbgrader": {
          "cell_type": "markdown",
          "checksum": "7a6a411b3833aaf17296afc3f2c6f29c",
          "grade": false,
          "grade_id": "cell-6a4782a94cdea347",
          "locked": true,
          "schema_version": 3,
          "solution": false,
          "task": false
        },
        "id": "akCc4p02isE4"
      },
      "source": [
        "**Task 7:** Build and train a ridge regression model named `model_r` that predicts home sales price. My model will include the following components:\n",
        "\n",
        "- A `OneHotEncoder` for categorical features.\n",
        "- A `StandardScaler` so that I can compare my model coefficients after training.\n",
        "- A `pipeline` that combines transformers and predictor.\n"
      ]
    },
    {
      "cell_type": "code",
      "execution_count": null,
      "metadata": {
        "deletable": false,
        "nbgrader": {
          "cell_type": "code",
          "checksum": "46bcd5b6c64f4a1ae928ef1acd3b9de9",
          "grade": false,
          "grade_id": "cell-02455b6368014e2e",
          "locked": false,
          "schema_version": 3,
          "solution": true,
          "task": false
        },
        "id": "z66x1gr8isE4",
        "colab": {
          "base_uri": "https://localhost:8080/"
        },
        "outputId": "d4e64016-a4ff-4b62-ddbc-aaac6f6d3af0"
      },
      "outputs": [
        {
          "output_type": "stream",
          "name": "stderr",
          "text": [
            "/usr/local/lib/python3.7/dist-packages/sklearn/linear_model/_base.py:155: FutureWarning: 'normalize' was deprecated in version 1.0 and will be removed in 1.2. Please leave the normalize parameter to its default value to silence this warning. The default behavior of this estimator is to not do any normalization. If normalization is needed please use sklearn.preprocessing.StandardScaler instead.\n",
            "  FutureWarning,\n"
          ]
        }
      ],
      "source": [
        "'''T7. Build and train Ridge model.'''\n",
        "from sklearn.linear_model import Ridge\n",
        "\n",
        "model_r=make_pipeline(\n",
        "    OneHotEncoder(use_cat_names=True),\n",
        "    StandardScaler(),\n",
        "    Ridge(normalize=False),\n",
        ")\n",
        "model_r.fit(X_train, y_train);"
      ]
    },
    {
      "cell_type": "markdown",
      "metadata": {
        "deletable": false,
        "editable": false,
        "nbgrader": {
          "cell_type": "markdown",
          "checksum": "4d39f90747ab640c15dba634dc5ddfb0",
          "grade": false,
          "grade_id": "cell-cb2403e89e718a6d",
          "locked": true,
          "schema_version": 3,
          "solution": false,
          "task": false
        },
        "id": "HFfZPHKmisE4"
      },
      "source": [
        "## V. Check Metrics\n",
        "\n",
        "**Task 8:** Compare my models by calculating their mean absolute error for the training and validation sets. I will assign these to the variables `model_lr_training_mae`, `model_lr_validation_mae`, `model_r_training_mae`, and `model_r_validation_mae`, respectively. The validation MAE for my Ridge model should be lower than my `baseline_mae`."
      ]
    },
    {
      "cell_type": "code",
      "execution_count": null,
      "metadata": {
        "deletable": false,
        "nbgrader": {
          "cell_type": "code",
          "checksum": "0c2faccf61831b14df7ab3c03e64a33b",
          "grade": false,
          "grade_id": "cell-10ea192c7e6ee9de",
          "locked": false,
          "schema_version": 3,
          "solution": true,
          "task": false
        },
        "colab": {
          "base_uri": "https://localhost:8080/"
        },
        "id": "MX0aTyeeisE4",
        "outputId": "85b8a31c-0e45-47eb-eda4-3fb33b765e05"
      },
      "outputs": [
        {
          "output_type": "stream",
          "name": "stdout",
          "text": [
            "Linear Regression Model\n",
            "Training MAE: 16252.725113683535\n",
            "Validation MAE: 1.0835239882409024e+16\n",
            "\n",
            "Ridge Regression Model\n",
            "Training MAE: 16119.822691743922\n",
            "Validation MAE: 17986.919803129713\n"
          ]
        }
      ],
      "source": [
        "'''T8: Compare model metrics, MAE.'''\n",
        "model_lr_training_mae=mean_absolute_error(y_train,model_lr.predict(X_train))\n",
        "model_lr_validation_mae=mean_absolute_error(y_val,model_lr.predict(X_val))\n",
        "model_r_training_mae=mean_absolute_error(y_train,model_r.predict(X_train))\n",
        "model_r_validation_mae=mean_absolute_error(y_val,model_r.predict(X_val))\n",
        "\n",
        "print('Linear Regression Model')\n",
        "print('Training MAE:', model_lr_training_mae)\n",
        "print('Validation MAE:', model_lr_validation_mae)\n",
        "print()\n",
        "print('Ridge Regression Model')\n",
        "print('Training MAE:', model_r_training_mae)\n",
        "print('Validation MAE:', model_r_validation_mae)"
      ]
    },
    {
      "cell_type": "markdown",
      "metadata": {
        "deletable": false,
        "editable": false,
        "nbgrader": {
          "cell_type": "markdown",
          "checksum": "cfd848fa6845b865766fdacba122f739",
          "grade": false,
          "grade_id": "cell-0299e563a01e1b52",
          "locked": true,
          "schema_version": 3,
          "solution": false,
          "task": false
        },
        "id": "fJipTUlaisE4"
      },
      "source": [
        "**Task 9:** Compare my two models by calculating their $R^2$ score for the **validation data**."
      ]
    },
    {
      "cell_type": "code",
      "execution_count": null,
      "metadata": {
        "deletable": false,
        "nbgrader": {
          "cell_type": "code",
          "checksum": "194fd47bb0c692386205a20dce6d0ebd",
          "grade": false,
          "grade_id": "cell-92d55f4de3bb7f31",
          "locked": false,
          "schema_version": 3,
          "solution": true,
          "task": false
        },
        "colab": {
          "base_uri": "https://localhost:8080/"
        },
        "id": "2yWsRPNfisE4",
        "outputId": "a4084a31-ff7e-40a5-ba39-b194b7eed69d"
      },
      "outputs": [
        {
          "output_type": "stream",
          "name": "stdout",
          "text": [
            "Linear Regression R^2: -7.639381424191251e+24\n",
            "Ridge Regression R^2: 0.888738016537792\n"
          ]
        }
      ],
      "source": [
        "'''T9: Compare model metrics, R^2.'''\n",
        "model_lr_r2_score=model_lr.score(X_val,y_val)\n",
        "model_r_r2_score=model_r.score(X_val,y_val)\n",
        "print('Linear Regression R^2:', model_lr_r2_score)\n",
        "print('Ridge Regression R^2:', model_r_r2_score)"
      ]
    },
    {
      "cell_type": "markdown",
      "metadata": {
        "id": "uOHsAd54isE5"
      },
      "source": [
        "**Task 10:** Based on the metrics above, choose the best of my two models and generate an array of predictions `y_pred` using the test set below.\n"
      ]
    },
    {
      "cell_type": "code",
      "source": [
        "import numpy as np"
      ],
      "metadata": {
        "id": "NcFdstFjLWlb"
      },
      "execution_count": null,
      "outputs": []
    },
    {
      "cell_type": "code",
      "source": [
        "df.shape"
      ],
      "metadata": {
        "colab": {
          "base_uri": "https://localhost:8080/"
        },
        "id": "W4uvah33VAGv",
        "outputId": "416a272e-bb0c-4842-e6c6-f3b247b37d5e"
      },
      "execution_count": null,
      "outputs": [
        {
          "output_type": "execute_result",
          "data": {
            "text/plain": [
              "(2564, 45)"
            ]
          },
          "metadata": {},
          "execution_count": 24
        }
      ]
    },
    {
      "cell_type": "code",
      "source": [
        "url_test = 'https://drive.google.com/uc?export=download&id=1y9u8cOWprTjruw8E-ct1c7YaEytToqd_'\n",
        "X_test = pd.read_csv(url_test)\n",
        "X_test.columns\n",
        "X_test=X_test.drop(columns='Yr_Sold')\n",
        "X_test.shape"
      ],
      "metadata": {
        "colab": {
          "base_uri": "https://localhost:8080/"
        },
        "id": "PPmuOp0pVbB5",
        "outputId": "0ed84fcb-84cc-4463-cadb-bfd694be69f9"
      },
      "execution_count": null,
      "outputs": [
        {
          "output_type": "execute_result",
          "data": {
            "text/plain": [
              "(340, 45)"
            ]
          },
          "metadata": {},
          "execution_count": 25
        }
      ]
    },
    {
      "cell_type": "code",
      "source": [
        "alphas = np.arange(1.0, 20.5, 0.5)\n",
        "\n",
        "train_mae =[]\n",
        "test_mae = []\n",
        "\n",
        "for a in alphas:\n",
        "  model_r = make_pipeline(\n",
        "      OneHotEncoder(use_cat_names=True),\n",
        "      Ridge(alpha=a)\n",
        "  )\n",
        "\n",
        "  model_r.fit(X_train, y_train)\n",
        "  train_mae.append(mean_absolute_error(y_train, model_r.predict(X_train)))"
      ],
      "metadata": {
        "id": "Sz-JJfSrxexP"
      },
      "execution_count": null,
      "outputs": []
    },
    {
      "cell_type": "code",
      "execution_count": null,
      "metadata": {
        "deletable": false,
        "nbgrader": {
          "cell_type": "code",
          "checksum": "e72becd77504ec4f4855ef07c4b7edfb",
          "grade": false,
          "grade_id": "cell-87695ab01935fdd9",
          "locked": false,
          "schema_version": 3,
          "solution": true,
          "task": false
        },
        "colab": {
          "base_uri": "https://localhost:8080/"
        },
        "id": "uuyPUhjoisE5",
        "outputId": "e0d08728-7db6-4d0b-b812-6adaefdcb51e"
      },
      "outputs": [
        {
          "output_type": "stream",
          "name": "stdout",
          "text": [
            "My predictions: [203964.13  99228.29 164194.54]\n"
          ]
        }
      ],
      "source": [
        "y_pred = np.round(model_r.predict(X_test),2)\n",
        "print('My predictions:', y_pred[:3])\n"
      ]
    },
    {
      "cell_type": "code",
      "source": [
        "train_mae"
      ],
      "metadata": {
        "colab": {
          "base_uri": "https://localhost:8080/"
        },
        "id": "ZghLG6GY_Ef9",
        "outputId": "7e65ad59-f578-4e29-d314-1e86aeee5e28"
      },
      "execution_count": null,
      "outputs": [
        {
          "output_type": "execute_result",
          "data": {
            "text/plain": [
              "[16571.419127004607,\n",
              " 16666.820390691613,\n",
              " 16737.082206762214,\n",
              " 16790.294471081947,\n",
              " 16830.26745235127,\n",
              " 16860.791646525427,\n",
              " 16884.927170639457,\n",
              " 16904.48428049601,\n",
              " 16920.507140065438,\n",
              " 16933.76307347956,\n",
              " 16945.01060829334,\n",
              " 16956.690006874767,\n",
              " 16967.24873648125,\n",
              " 16976.43188204818,\n",
              " 16984.823459226267,\n",
              " 16992.917099371636,\n",
              " 17001.768705863327,\n",
              " 17010.622147459053,\n",
              " 17018.742567204023,\n",
              " 17026.136900835572,\n",
              " 17033.06094530886,\n",
              " 17040.22570759529,\n",
              " 17047.378574507682,\n",
              " 17054.73328813806,\n",
              " 17062.373804939172,\n",
              " 17069.80138743925,\n",
              " 17076.971175233288,\n",
              " 17083.84211802137,\n",
              " 17090.51285723913,\n",
              " 17097.298643926257,\n",
              " 17104.16311818817,\n",
              " 17110.927044483138,\n",
              " 17117.438301048252,\n",
              " 17124.06723401126,\n",
              " 17130.82966756249,\n",
              " 17137.526236129026,\n",
              " 17144.30621909455,\n",
              " 17151.43460682552,\n",
              " 17158.72975420861]"
            ]
          },
          "metadata": {},
          "execution_count": 60
        }
      ]
    },
    {
      "cell_type": "markdown",
      "metadata": {
        "deletable": false,
        "editable": false,
        "nbgrader": {
          "cell_type": "markdown",
          "checksum": "be6e79e32e8e72ffb454996bc15a4708",
          "grade": false,
          "grade_id": "cell-e724aba3fc221134",
          "locked": true,
          "schema_version": 3,
          "solution": false,
          "task": false
        },
        "id": "GV9CY5gYisE5"
      },
      "source": [
        "## VI. Explain Model\n",
        "\n",
        "**Task 11:** Create a horizontal barchart for my best performing model that shows the ten most important features for the model's predictions. "
      ]
    },
    {
      "cell_type": "code",
      "source": [
        "model_lr"
      ],
      "metadata": {
        "colab": {
          "base_uri": "https://localhost:8080/"
        },
        "id": "A0eNBhAUl2kr",
        "outputId": "e1fec129-f269-44ba-ba36-2e51e18fead3"
      },
      "execution_count": null,
      "outputs": [
        {
          "output_type": "execute_result",
          "data": {
            "text/plain": [
              "Pipeline(steps=[('onehotencoder',\n",
              "                 OneHotEncoder(cols=['Bldg_Type', 'Central_Air', 'Condition_1',\n",
              "                                     'Condition_2', 'Electrical', 'Exter_Cond',\n",
              "                                     'Exter_Qual', 'Exterior_1st',\n",
              "                                     'Exterior_2nd', 'Foundation', 'Functional',\n",
              "                                     'Heating', 'Heating_QC', 'House_Style',\n",
              "                                     'Kitchen_Qual', 'Land_Contour',\n",
              "                                     'Land_Slope', 'Lot_Config', 'Lot_Shape',\n",
              "                                     'MS_Zoning', 'Mas_Vnr_Type',\n",
              "                                     'Neighborhood', 'Paved_Drive', 'Roof_Matl',\n",
              "                                     'Roof_Style', 'Sale_Condition',\n",
              "                                     'Sale_Type', 'Street', 'Utilities'],\n",
              "                               use_cat_names=True)),\n",
              "                ('standardscaler', StandardScaler()),\n",
              "                ('linearregression', LinearRegression())])"
            ]
          },
          "metadata": {},
          "execution_count": 29
        }
      ]
    },
    {
      "cell_type": "code",
      "execution_count": null,
      "metadata": {
        "deletable": false,
        "nbgrader": {
          "cell_type": "code",
          "checksum": "22360b5fca505bd10654fae809bf2797",
          "grade": false,
          "grade_id": "cell-ebd0b1ea2eab31c6",
          "locked": false,
          "schema_version": 3,
          "solution": true,
          "task": false
        },
        "id": "zm_Zx3AHisE5"
      },
      "outputs": [],
      "source": [
        "coefficients = model_lr.named_steps['linearregression'].coef_[0]\n",
        "features = model_lr.named_steps['onehotencoder'].get_feature_names()\n",
        "feat_imp = pd.Series(coefficients, index=features).sort_values(key=abs)"
      ]
    }
  ],
  "metadata": {
    "colab": {
      "collapsed_sections": [],
      "name": "Lowa's home prices.ipynb",
      "provenance": []
    },
    "kernelspec": {
      "display_name": "Python 3",
      "language": "python",
      "name": "python3"
    },
    "language_info": {
      "codemirror_mode": {
        "name": "ipython",
        "version": 3
      },
      "file_extension": ".py",
      "mimetype": "text/x-python",
      "name": "python",
      "nbconvert_exporter": "python",
      "pygments_lexer": "ipython3",
      "version": "3.8.8"
    }
  },
  "nbformat": 4,
  "nbformat_minor": 0
}